{
 "cells": [
  {
   "cell_type": "markdown",
   "metadata": {},
   "source": [
    "# Separación de las imágenes y preparación del dataset final"
   ]
  },
  {
   "cell_type": "markdown",
   "metadata": {},
   "source": [
    "## Librerías"
   ]
  },
  {
   "cell_type": "code",
   "execution_count": 1,
   "metadata": {},
   "outputs": [],
   "source": [
    "import rasterio as rt\n",
    "import cv2\n",
    "from pathlib import Path\n",
    "import os\n",
    "from PIL import Image as Im\n",
    "import numpy as np\n",
    "import shutil"
   ]
  },
  {
   "cell_type": "markdown",
   "metadata": {},
   "source": [
    "## Lectura de los datos"
   ]
  },
  {
   "cell_type": "code",
   "execution_count": 2,
   "metadata": {},
   "outputs": [],
   "source": [
    "# directorio datos:\n",
    "\n",
    "data_directory = Path.cwd() / 'spatial_data'\n",
    "rgb_filename = 'merged_raster_preprocessed.png'\n",
    "mask_filename = 'badajoz_multiclass_mask.png'\n",
    "rgb_path = data_directory / rgb_filename\n",
    "mask_path = data_directory / mask_filename"
   ]
  },
  {
   "cell_type": "code",
   "execution_count": 3,
   "metadata": {},
   "outputs": [],
   "source": [
    "# Lectura de imagen RGB con open cv\n",
    "\n",
    "rgb_image = cv2.imread(rgb_path, 1) # El flag 1 indica que la imagen se lea como RGB"
   ]
  },
  {
   "cell_type": "code",
   "execution_count": 4,
   "metadata": {},
   "outputs": [],
   "source": [
    "# Para leer la imagen multimáscara, es preferible utilizar pillow\n",
    "\n",
    "Im.MAX_IMAGE_PIXELS = None # Eliminar la protección contra ataques decompression bomb DOS\n",
    "mask_image = Im.open(mask_path)\n",
    "mask_image_np = np.array(mask_image) # Transformar a array de numpy"
   ]
  },
  {
   "cell_type": "markdown",
   "metadata": {},
   "source": [
    "## Obtención de cuadrados de 500 x 500 px"
   ]
  },
  {
   "cell_type": "markdown",
   "metadata": {},
   "source": [
    "### Imagen RGB"
   ]
  },
  {
   "cell_type": "code",
   "execution_count": 5,
   "metadata": {},
   "outputs": [],
   "source": [
    "square_size = 500"
   ]
  },
  {
   "cell_type": "code",
   "execution_count": 6,
   "metadata": {},
   "outputs": [],
   "source": [
    "height, width, _ = rgb_image.shape"
   ]
  },
  {
   "cell_type": "code",
   "execution_count": 7,
   "metadata": {},
   "outputs": [],
   "source": [
    "# Crear una carpeta para guardar las imágenes\n",
    "os.makedirs('dataset/raw/features', exist_ok=True)\n",
    "\n",
    "# Dividir la imagen en pequeños cuadrados\n",
    "for y in range(0, height, square_size):\n",
    "    for x in range(0, width, square_size):\n",
    "        # Obtener el bloque de la imagen\n",
    "        block = rgb_image[y:y+square_size, x:x+square_size]\n",
    "        \n",
    "        # Guardar el bloque\n",
    "        block_filename = f'dataset/raw/features/square_{x}_{y}.png'\n",
    "        cv2.imwrite(block_filename, block)"
   ]
  },
  {
   "cell_type": "markdown",
   "metadata": {},
   "source": [
    "### Máscara"
   ]
  },
  {
   "cell_type": "code",
   "execution_count": 8,
   "metadata": {},
   "outputs": [],
   "source": [
    "height, width = mask_image_np.shape"
   ]
  },
  {
   "cell_type": "code",
   "execution_count": 9,
   "metadata": {},
   "outputs": [],
   "source": [
    "# Crear una carpeta para guardar las imáscaras\n",
    "os.makedirs('dataset/raw/labels', exist_ok=True)\n",
    "\n",
    "# Dividir la máscara en pequeños cuadrados\n",
    "for y in range(0, height, square_size):\n",
    "    for x in range(0, width, square_size):\n",
    "        # Obtener el bloque de la máscara\n",
    "        block = mask_image_np[y:y+square_size, x:x+square_size]\n",
    "        \n",
    "        # Guardar el bloque\n",
    "        block_filename = f'dataset/raw/labels/mask_{x}_{y}.png'\n",
    "        cv2.imwrite(block_filename, block)"
   ]
  },
  {
   "cell_type": "markdown",
   "metadata": {},
   "source": [
    "Vamos a comprobar que las máscaras son correctas, ya que al guardarlas como escala de grises, son indistingibles al ojo humano."
   ]
  },
  {
   "cell_type": "code",
   "execution_count": 10,
   "metadata": {},
   "outputs": [
    {
     "data": {
      "image/png": "[encoded data removed]",
      "text/plain": [
       "<PIL.PngImagePlugin.PngImageFile image mode=I;16 size=500x500>"
      ]
     },
     "execution_count": 10,
     "metadata": {},
     "output_type": "execute_result"
    }
   ],
   "source": [
    "mask_14000_12000 = Im.open('dataset/raw/labels/mask_14000_12000.png')\n",
    "mask_14000_12000"
   ]
  },
  {
   "cell_type": "code",
   "execution_count": 11,
   "metadata": {},
   "outputs": [
    {
     "data": {
      "text/plain": [
       "array([0, 3, 4, 5], dtype=uint16)"
      ]
     },
     "execution_count": 11,
     "metadata": {},
     "output_type": "execute_result"
    }
   ],
   "source": [
    "mask_14000_12000_np = np.array(mask_14000_12000)\n",
    "np.unique(mask_14000_12000_np)"
   ]
  },
  {
   "cell_type": "markdown",
   "metadata": {},
   "source": [
    "Vemos que los valores de la máscara están comprendidos entre 0 y 5"
   ]
  },
  {
   "cell_type": "markdown",
   "metadata": {},
   "source": [
    "## Limpieza de datos"
   ]
  },
  {
   "cell_type": "markdown",
   "metadata": {},
   "source": [
    "### Eliminación de imágenes y máscaras rectangulares"
   ]
  },
  {
   "cell_type": "markdown",
   "metadata": {},
   "source": [
    "En primer lugar, vamos a eliminar las imágenes que no tengan la resolución necesaria. Estas se corresponden a los límites sur y este de badajoz y se debe a que el tamaño de las nuevas imágenes (500 p) no es múltiplo del ancho o del largo de la imagen original."
   ]
  },
  {
   "cell_type": "code",
   "execution_count": 12,
   "metadata": {},
   "outputs": [
    {
     "name": "stdout",
     "output_type": "stream",
     "text": [
      "resolución original: (17281, 23085) píxeles\n"
     ]
    }
   ],
   "source": [
    "print(f'resolución original: {rgb_image.shape[:-1]} píxeles')"
   ]
  },
  {
   "cell_type": "code",
   "execution_count": 72,
   "metadata": {},
   "outputs": [
    {
     "name": "stdout",
     "output_type": "stream",
     "text": [
      "nº imágenes: 1645\n",
      "nº máscaras: 1645\n"
     ]
    }
   ],
   "source": [
    "# Directorio de imágenes y máscaras\n",
    "\n",
    "images_path = Path.cwd() / 'dataset/raw/features'\n",
    "masks_path = Path.cwd() / 'dataset/raw/labels'\n",
    "\n",
    "image_files_list = list(images_path.glob('*.png'))\n",
    "mask_files_list = list(masks_path.glob('*.png'))\n",
    "\n",
    "print(f'nº imágenes: {len(image_files_list)}\\nnº máscaras: {len(mask_files_list)}')"
   ]
  },
  {
   "cell_type": "markdown",
   "metadata": {},
   "source": [
    "Para optimizar la búsqueda, vamos a utilizar los nombres de las imágenes, ya que tienen información del área de la imagen original a la que pertenecen."
   ]
  },
  {
   "cell_type": "code",
   "execution_count": 73,
   "metadata": {},
   "outputs": [],
   "source": [
    "# Obtener parámetros de la imagen original\n",
    "# X_PX, Y_PX = rgb_image.shape[:-1]\n",
    "\n",
    "# Parámetros definidos para no tener que cargar la matriz original (500 x 500 px de resolución)\n",
    "\n",
    "X_PX, Y_PX = (17281, 23085) # Resolución de imágenes: 500 x 500 px\n",
    "square_size = 500"
   ]
  },
  {
   "cell_type": "code",
   "execution_count": 74,
   "metadata": {},
   "outputs": [],
   "source": [
    "to_drop_dict = {'Image':[],'Mask':[]}\n",
    "\n",
    "for image, mask in zip(image_files_list, mask_files_list):\n",
    "    \n",
    "    # Obtengo el fichero con image.parts[-1], me quedo con el nombre sin la extensión .png y separo por _ para obtener los metadatos\n",
    "    y, x = image.parts[-1].split(sep='.')[0].split(sep='_')[1:]\n",
    "\n",
    "    # Obtengo los márgenes horizontales y verticales de cada imagen\n",
    "\n",
    "    x_margin = X_PX - int(x)\n",
    "    y_margin = Y_PX - int(y)\n",
    "\n",
    "    # Si el margen es menor al tamaño del cuadrado, entonces se trata de un rectángulo de lado menor a 500\n",
    "\n",
    "    if (x_margin < square_size) | (y_margin < square_size):\n",
    "\n",
    "        to_drop_dict['Image'].append(image)\n",
    "        to_drop_dict['Mask'].append(mask)"
   ]
  },
  {
   "cell_type": "code",
   "execution_count": 75,
   "metadata": {},
   "outputs": [],
   "source": [
    "def to_drop_update(feats, labels, dict):\n",
    "    '''Actualización de las listas de elementos válidos a partir del diccionario de elementos a eliminar'''\n",
    "\n",
    "    keys = list(dict.keys())\n",
    "    drop_images = dict[keys[0]]\n",
    "    drop_labels = dict[keys[1]]\n",
    "\n",
    "    valid_feats = list()\n",
    "    valid_labels = list()\n",
    "\n",
    "    for image, mask in zip(feats, labels):\n",
    "\n",
    "        if not(image in drop_images) and not(mask in drop_labels):\n",
    "            valid_feats.append(image)\n",
    "            valid_labels.append(mask)\n",
    "\n",
    "    return (valid_feats, valid_labels)"
   ]
  },
  {
   "cell_type": "code",
   "execution_count": 76,
   "metadata": {},
   "outputs": [],
   "source": [
    "valid_images, valid_masks = to_drop_update(image_files_list, mask_files_list, to_drop_dict)"
   ]
  },
  {
   "cell_type": "markdown",
   "metadata": {},
   "source": [
    "### Eliminación de máscaras de valor nulo"
   ]
  },
  {
   "cell_type": "markdown",
   "metadata": {},
   "source": [
    "Las imagenes que no tienen ningún tipo de uso no tendrán ninguna utilidad."
   ]
  },
  {
   "cell_type": "code",
   "execution_count": 23,
   "metadata": {},
   "outputs": [],
   "source": [
    "# Porcentaje de píxeles etiquetados como 0 a eliminar\n",
    "\n",
    "pct_0_labeled = 0.95"
   ]
  },
  {
   "cell_type": "code",
   "execution_count": 78,
   "metadata": {},
   "outputs": [],
   "source": [
    "to_drop_dict = {'Image':[],'Mask':[]}\n",
    "\n",
    "for image, mask in zip(valid_images, valid_masks):\n",
    "\n",
    "    mask_image = np.array(Im.open(mask))\n",
    "\n",
    "    if not(mask_image.max()):\n",
    "\n",
    "        to_drop_dict['Image'].append(image)\n",
    "        to_drop_dict['Mask'].append(mask)"
   ]
  },
  {
   "cell_type": "code",
   "execution_count": 79,
   "metadata": {},
   "outputs": [],
   "source": [
    "valid_images, valid_masks = to_drop_update(valid_images, valid_masks, to_drop_dict)"
   ]
  },
  {
   "cell_type": "markdown",
   "metadata": {},
   "source": [
    "Ya tenemos el diccionario con las imágenes y máscaras que no vamos a utilizar. Vamos a copiar y pegar todos los archivos que necesitamos a una carpeta."
   ]
  },
  {
   "cell_type": "code",
   "execution_count": 82,
   "metadata": {},
   "outputs": [],
   "source": [
    "# Directorios de destino\n",
    "\n",
    "clean_images_path = Path.cwd() / 'dataset/clean/features'\n",
    "clean_masks_path = Path.cwd() / 'dataset/clean/labels'"
   ]
  },
  {
   "cell_type": "code",
   "execution_count": 83,
   "metadata": {},
   "outputs": [],
   "source": [
    "# Creación de directorios (descomentar)\n",
    "\n",
    "# os.makedirs(clean_images_path, exist_ok=True)\n",
    "# os.makedirs(clean_masks_path, exist_ok=True)"
   ]
  },
  {
   "cell_type": "code",
   "execution_count": 84,
   "metadata": {},
   "outputs": [],
   "source": [
    "for image, mask in zip(valid_images, valid_masks):\n",
    "    shutil.copy(image,clean_images_path)\n",
    "    shutil.copy(mask,clean_masks_path)"
   ]
  }
 ],
 "metadata": {
  "kernelspec": {
   "display_name": "venv",
   "language": "python",
   "name": "python3"
  },
  "language_info": {
   "codemirror_mode": {
    "name": "ipython",
    "version": 3
   },
   "file_extension": ".py",
   "mimetype": "text/x-python",
   "name": "python",
   "nbconvert_exporter": "python",
   "pygments_lexer": "ipython3",
   "version": "3.11.9"
  }
 },
 "nbformat": 4,
 "nbformat_minor": 2
}
