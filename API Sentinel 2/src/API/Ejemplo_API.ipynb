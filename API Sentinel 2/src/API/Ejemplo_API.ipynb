{
 "cells": [
  {
   "cell_type": "markdown",
   "metadata": {},
   "source": [
    "## Sentinel API"
   ]
  },
  {
   "cell_type": "markdown",
   "metadata": {},
   "source": [
    "### Creación OAuth client"
   ]
  },
  {
   "cell_type": "markdown",
   "metadata": {},
   "source": [
    "Para poder hacer uso de las APIs de Sentinel, es necesario registrarse en Copernicus Dataspace Ecosystem:\n",
    "\n",
    "https://dataspace.copernicus.eu/\n",
    "\n",
    "Posteriormente, es necesario crear un cliente OAuth. Para ello, hay que entrar en MY ACCOUNT > Sentinel Hub > settings. En el apartado OAuth Client, hacer click en crear y especificar un nombre para el cliente. Una vez creado, copiar el ID e ID-secreto a un documento de texto."
   ]
  },
  {
   "cell_type": "markdown",
   "metadata": {},
   "source": [
    "### Instalación"
   ]
  },
  {
   "cell_type": "markdown",
   "metadata": {},
   "source": [
    "La instalación requiere una versión de python >= 3.8"
   ]
  },
  {
   "cell_type": "code",
   "execution_count": null,
   "metadata": {},
   "outputs": [],
   "source": [
    "!pip install sentinelhub"
   ]
  },
  {
   "cell_type": "markdown",
   "metadata": {},
   "source": [
    "### Librerías"
   ]
  },
  {
   "cell_type": "code",
   "execution_count": null,
   "metadata": {},
   "outputs": [],
   "source": [
    "from sentinelhub import (CRS,\n",
    "                         BBox,\n",
    "                         DataCollection,\n",
    "                         SHConfig,\n",
    "                         MimeType,\n",
    "                         MosaickingOrder,\n",
    "                         SentinelHubRequest,\n",
    "                         SentinelHubCatalog,\n",
    "                         bbox_to_dimensions,\n",
    ")\n",
    "\n",
    "from utils import plot_image"
   ]
  },
  {
   "cell_type": "markdown",
   "metadata": {},
   "source": [
    "### SHConfig"
   ]
  },
  {
   "cell_type": "markdown",
   "metadata": {},
   "source": [
    "Al instalar el paquete, se debería haber creado una carpeta en el siguiente directorio:\n",
    "\n",
    "C:/users/\\<nombre_de_usuario>/.config/sentinelhub\n",
    "\n",
    "En su interior, se encuentra el archivo config.toml, que puede abrirse con un editor de texto. Aquí tendremos que introducir nuestros datos:\n",
    "\n",
    "```\n",
    "[default-profile]\n",
    "\n",
    "sh_client_id = '\\<client_id_por_defecto>'\n",
    "sh_client_secret = '\\<mi_client_secret_id_por_defecto>'\n",
    "sh_base_url = 'https://sh.dataspace.copernicus.eu'\n",
    "sh_token_url = 'https://identity.dataspace.copernicus.eu/auth/realms/CDSE/protocol/openid-connect/token'\n",
    "\n",
    "[myprofile]\n",
    "\n",
    "sh_client_id = '\\<mi_client_id>'\n",
    "sh_client_secret = '\\<mi_client_secret_id>'\n",
    "sh_base_url = 'https://sh.dataspace.copernicus.eu'\n",
    "sh_token_url = 'https://identity.dataspace.copernicus.eu/auth/realms/CDSE/protocol/openid-connect/token'\n",
    "```\n",
    "\n",
    "Una vez configurados los perfiles, podemos instanciar el objeto SHConfig"
   ]
  },
  {
   "cell_type": "code",
   "execution_count": null,
   "metadata": {},
   "outputs": [],
   "source": [
    "config = SHConfig(\"myprofile\")"
   ]
  },
  {
   "cell_type": "markdown",
   "metadata": {},
   "source": [
    "### Parámetros"
   ]
  },
  {
   "cell_type": "markdown",
   "metadata": {},
   "source": [
    "En los parámetros se puede especificar:\n",
    "- Una geometría (BBox o Geometry): https://sentinelhub-py.readthedocs.io/en/latest/reference/sentinelhub.geometry.html#sentinelhub.geometry.BBox\n",
    "- Un intervalo de tiempo\n",
    "- Máxima nubosidad pérmitida"
   ]
  },
  {
   "cell_type": "code",
   "execution_count": null,
   "metadata": {},
   "outputs": [],
   "source": [
    "# Parámetros\n",
    "'''\n",
    "CRS disponibles: WGS84, POP_WEB y constantes en formato UTM_<zona><dirección>\n",
    "donde zona es un entero entre [1, 60] y dirección es N o S (hemisferio norte o sur)\n",
    "'''\n",
    "\n",
    "aoi_coords_wgs84 = (46.16, -16.15, 46.51, -15.58) # Formato para BBox: (min_x, min_y, max_x, max_y)\n",
    "aoi_crs = CRS.WGS84 # Sistema de referencia para BBox.\n",
    "resolution = 60 # Resolución del BBox\n",
    "time_interval = (\"2020-06-12\", \"2020-06-13\") # Intervalo de tiempo\n",
    "max_cloud_coverage = 1.0 # Máxima nubosidad permitida. Debe ser un float entre [0.0, 1.0]"
   ]
  },
  {
   "cell_type": "code",
   "execution_count": null,
   "metadata": {},
   "outputs": [],
   "source": [
    "# Bounding box\n",
    "aoi_bbox = BBox(bbox=aoi_coords_wgs84, crs=aoi_crs) # Bounding Box\n",
    "aoi_size = bbox_to_dimensions(aoi_bbox, resolution=resolution)\n",
    "print(f\"Image shape at {resolution} m resolution: {aoi_size} pixels\")"
   ]
  },
  {
   "cell_type": "markdown",
   "metadata": {},
   "source": [
    "### Catalog API"
   ]
  },
  {
   "cell_type": "markdown",
   "metadata": {},
   "source": [
    "Para realizar consultas a la base de datos se utiliza la Catalog API. Es necesario especificar un satelite como primer parámetro en catalog.search()"
   ]
  },
  {
   "cell_type": "code",
   "execution_count": null,
   "metadata": {},
   "outputs": [],
   "source": [
    "catalog = SentinelHubCatalog(config=config)\n",
    "\n",
    "search_iterator = catalog.search(\n",
    "    DataCollection.SENTINEL2_L2A,\n",
    "    bbox=aoi_bbox,\n",
    "    time=time_interval,\n",
    "    fields={\"include\": [\"id\", \"properties.datetime\"], \"exclude\": []},\n",
    "    filter='eo:cloud_cover < ' + str(max_cloud_coverage*100),\n",
    ")\n",
    "results = list(search_iterator)\n",
    "print(\"Total number of results:\", len(results))\n",
    "\n",
    "results"
   ]
  },
  {
   "cell_type": "markdown",
   "metadata": {},
   "source": [
    "### Process API"
   ]
  },
  {
   "cell_type": "markdown",
   "metadata": {},
   "source": [
    "Para hacer requests, se utiliza la Process API."
   ]
  },
  {
   "cell_type": "markdown",
   "metadata": {},
   "source": [
    "#### eval script\n",
    "Código en Javascript que define cómo Sentinel Hub debe procesar los datos y qué valores debe devolver. En este caso, se especifican las bandas RGB (\"B02\", \"B03\", \"B04\")."
   ]
  },
  {
   "cell_type": "code",
   "execution_count": null,
   "metadata": {},
   "outputs": [],
   "source": [
    "evalscript_true_color = \"\"\"\n",
    "    //VERSION=3\n",
    "\n",
    "    function setup() {\n",
    "        return {\n",
    "            input: [{\n",
    "                bands: [\"B02\", \"B03\", \"B04\"]\n",
    "            }],\n",
    "            output: {\n",
    "                bands: 3\n",
    "            }\n",
    "        };\n",
    "    }\n",
    "\n",
    "    function evaluatePixel(sample) {\n",
    "        return [sample.B04, sample.B03, sample.B02];\n",
    "    }\n",
    "\"\"\""
   ]
  },
  {
   "cell_type": "markdown",
   "metadata": {},
   "source": [
    "#### instanciar SentinelHubRequest"
   ]
  },
  {
   "cell_type": "markdown",
   "metadata": {},
   "source": [
    "Es necesario especificar un satélite como primer valor en el parámetro input_data. Actualmente, la colección DataCollection.SENTINEL2_L2A tiene definida un service_url antiguo (https://services.sentinel-hub.com).\n",
    "Para modificar la url (https://sh.dataspace.copernicus.eu), se utiliza el método define_from().\n",
    "\n",
    "El resultado final será un mosaico que se formará a partir de todas las imágenes obtenidas. El parámetro mosaicking_order permite definir cómo se va a generar este mosaico. En este caso, MosaickingOrder.LEAST_CC priorizará la mínima nubosidad."
   ]
  },
  {
   "cell_type": "code",
   "execution_count": null,
   "metadata": {},
   "outputs": [],
   "source": [
    "request_true_color = SentinelHubRequest(\n",
    "    evalscript=evalscript_true_color,\n",
    "    input_data=[\n",
    "        SentinelHubRequest.input_data(\n",
    "            data_collection=DataCollection.SENTINEL2_L2A.define_from(\n",
    "                name=\"s2l2a\", service_url=\"https://sh.dataspace.copernicus.eu\"\n",
    "            ),\n",
    "            time_interval=time_interval,\n",
    "            maxcc = max_cloud_coverage,\n",
    "            mosaicking_order=MosaickingOrder.LEAST_CC\n",
    "        )\n",
    "    ],\n",
    "    responses=[SentinelHubRequest.output_response(\"default\", MimeType.PNG)],\n",
    "    bbox=aoi_bbox,\n",
    "    size=aoi_size,\n",
    "    config=config,\n",
    ")"
   ]
  },
  {
   "cell_type": "markdown",
   "metadata": {},
   "source": [
    "#### obtener y graficar los datos"
   ]
  },
  {
   "cell_type": "code",
   "execution_count": null,
   "metadata": {},
   "outputs": [],
   "source": [
    "# Request\n",
    "data_full_color = request_true_color.get_data()\n",
    "# Plotting\n",
    "plot_image(data_full_color[0], factor=3.5 / 255, clip_range=(0, 1))"
   ]
  }
 ],
 "metadata": {
  "kernelspec": {
   "display_name": "venv",
   "language": "python",
   "name": "python3"
  },
  "language_info": {
   "codemirror_mode": {
    "name": "ipython",
    "version": 3
   },
   "file_extension": ".py",
   "mimetype": "text/x-python",
   "name": "python",
   "nbconvert_exporter": "python",
   "pygments_lexer": "ipython3",
   "version": "3.11.9"
  }
 },
 "nbformat": 4,
 "nbformat_minor": 2
}
