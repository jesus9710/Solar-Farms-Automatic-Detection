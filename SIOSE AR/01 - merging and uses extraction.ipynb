{
 "cells": [
  {
   "cell_type": "markdown",
   "metadata": {},
   "source": [
    "### Extracción de capas de interés de SIOSE\n",
    "#### (Solar, Cultivos y Cultivos arbóreos)"
   ]
  },
  {
   "cell_type": "markdown",
   "metadata": {},
   "source": [
    "##### Instalar paquetes no nativos"
   ]
  },
  {
   "cell_type": "code",
   "execution_count": null,
   "metadata": {},
   "outputs": [],
   "source": [
    "!pip install geopandas pyproj"
   ]
  },
  {
   "cell_type": "code",
   "execution_count": null,
   "metadata": {},
   "outputs": [],
   "source": [
    "!pip install fiona"
   ]
  },
  {
   "cell_type": "markdown",
   "metadata": {},
   "source": [
    "##### Importar paquetes"
   ]
  },
  {
   "cell_type": "code",
   "execution_count": 1,
   "metadata": {},
   "outputs": [],
   "source": [
    "import os\n",
    "import glob\n",
    "import geopandas as gpd\n",
    "from pyproj import CRS\n",
    "import zipfile\n",
    "import fiona\n",
    "import pandas as pd\n",
    "import pickle"
   ]
  },
  {
   "cell_type": "markdown",
   "metadata": {},
   "source": [
    "##### Listar todos los archivos de SIOSE, formato .gpkg para cada provincia"
   ]
  },
  {
   "cell_type": "code",
   "execution_count": 2,
   "metadata": {},
   "outputs": [
    {
     "name": "stdout",
     "output_type": "stream",
     "text": [
      "['spatial_data/01_ALAVA.gpkg', 'spatial_data/03_ALICANTE.gpkg', 'spatial_data/04_ALMERIA.gpkg', 'spatial_data/05_AVILA.gpkg', 'spatial_data/06_BADAJOZ.gpkg', 'spatial_data/08_BARCELONA.gpkg', 'spatial_data/09_BURGOS.gpkg', 'spatial_data/10_CACERES.gpkg', 'spatial_data/12_CASTELLON.gpkg', 'spatial_data/14_CORDOBA.gpkg', 'spatial_data/15_CORUÑA.gpkg', 'spatial_data/17_GIRONA.gpkg', 'spatial_data/18_GRANADA.gpkg', 'spatial_data/20_GUIPUZCOA.gpkg', 'spatial_data/21_HUELVA.gpkg', 'spatial_data/22_HUESCA.gpkg', 'spatial_data/23_JAEN.gpkg', 'spatial_data/24_LEON.gpkg', 'spatial_data/25_LLEIDA.gpkg', 'spatial_data/26_RIOJA.gpkg', 'spatial_data/27_LUGO.gpkg', 'spatial_data/28_MADRID.gpkg', 'spatial_data/29_MALAGA.gpkg', 'spatial_data/30_MURCIA.gpkg', 'spatial_data/31_NAVARRA.gpkg', 'spatial_data/32_OURENSE.gpkg', 'spatial_data/33_ASTURIAS.gpkg', 'spatial_data/34_PALENCIA.gpkg', 'spatial_data/37_SALAMANCA.gpkg', 'spatial_data/39_CANTABRIA.gpkg', 'spatial_data/40_SEGOVIA.gpkg', 'spatial_data/41_SEVILLA.gpkg', 'spatial_data/42_SORIA.gpkg', 'spatial_data/43_TARRAGONA.gpkg', 'spatial_data/44_TERUEL.gpkg', 'spatial_data/45_TOLEDO.gpkg', 'spatial_data/46_VALENCIA.gpkg', 'spatial_data/47_VALLADOLID.gpkg', 'spatial_data/48_VIZCAYA.gpkg', 'spatial_data/49_ZAMORA.gpkg', 'spatial_data/50_ZARAGOZA.gpkg', 'spatial_data/SAR2017_02_Albacete_GPKG\\\\02_ALBACETE.gpkg', 'spatial_data/SAR2017_11_Cadiz_GPKG\\\\11_CADIZ.gpkg', 'spatial_data/SAR2017_13_Creal_GPKG\\\\13_CREAL.gpkg', 'spatial_data/SAR2017_16_Cuenca_GPKG\\\\16_CUENCA.gpkg', 'spatial_data/SAR2017_19_Guadalajara_GPKG\\\\19_GUADALAJARA.gpkg', 'spatial_data/SAR2017_36_Pontevedra_GPKG\\\\36_PONTEVEDRA.gpkg']\n"
     ]
    }
   ],
   "source": [
    "# Directorio raíz\n",
    "directorio_raiz = \"spatial_data/\"\n",
    "\n",
    "# Lista para almacenar los archivos .gpkg\n",
    "gpkg_files = []\n",
    "\n",
    "# Recorrer recursivamente el directorio raíz y sus subdirectorios\n",
    "for directorio_actual, _, archivos in os.walk(directorio_raiz):\n",
    "    # Filtrar los archivos .gpkg y agregarlos a la lista\n",
    "    gpkg_files += [os.path.join(directorio_actual, archivo) for archivo in archivos if archivo.endswith(\".gpkg\")]\n",
    "\n",
    "# Imprimir la lista de archivos .gpkg\n",
    "print(gpkg_files)"
   ]
  },
  {
   "cell_type": "markdown",
   "metadata": {},
   "source": [
    "##### Extracción polígonos solares"
   ]
  },
  {
   "cell_type": "code",
   "execution_count": 4,
   "metadata": {},
   "outputs": [],
   "source": [
    "# Función para extraer la capa USOS y el uso 'Solar'\n",
    "def extract_USOS(file_path):\n",
    "    # Listar todas las capas\n",
    "    layers = fiona.listlayers(file_path)\n",
    "    # Seleccionar el nombre de capa que termine por '_T_USOS'\n",
    "    layer_name = [layer for layer in layers if layer.endswith('_T_USOS')][0]\n",
    "    # Leer la capa\n",
    "    layer = gpd.read_file(file_path, layer=layer_name)\n",
    "    # Extraer uso 'Solar'\n",
    "    layer = layer[layer['ID_USO_MAX'].isin([2442])]\n",
    "    return layer"
   ]
  },
  {
   "cell_type": "code",
   "execution_count": 5,
   "metadata": {},
   "outputs": [],
   "source": [
    "# Extraer capas \n",
    "solar_polygons = [extract_USOS(file) for file in gpkg_files]"
   ]
  },
  {
   "cell_type": "code",
   "execution_count": 10,
   "metadata": {},
   "outputs": [],
   "source": [
    "# Proyectar a EPSG:25830\n",
    "solar_polygons = [capa.to_crs(25830) for capa in solar_polygons]"
   ]
  },
  {
   "cell_type": "code",
   "execution_count": 20,
   "metadata": {},
   "outputs": [
    {
     "name": "stdout",
     "output_type": "stream",
     "text": [
      "La geodatabase 1 contiene 1 polígonos.\n",
      "La geodatabase 2 contiene 51 polígonos.\n",
      "La geodatabase 3 contiene 74 polígonos.\n",
      "La geodatabase 4 contiene 205 polígonos.\n",
      "La geodatabase 5 contiene 491 polígonos.\n",
      "La geodatabase 6 contiene 27 polígonos.\n",
      "La geodatabase 7 contiene 29 polígonos.\n",
      "La geodatabase 8 contiene 282 polígonos.\n",
      "La geodatabase 9 contiene 48 polígonos.\n",
      "La geodatabase 10 contiene 71 polígonos.\n",
      "La geodatabase 11 contiene 64 polígonos.\n",
      "La geodatabase 12 contiene 27 polígonos.\n",
      "La geodatabase 13 contiene 502 polígonos.\n",
      "La geodatabase 14 contiene 0 polígonos.\n",
      "La geodatabase 15 contiene 54 polígonos.\n",
      "La geodatabase 16 contiene 43 polígonos.\n",
      "La geodatabase 17 contiene 40 polígonos.\n",
      "La geodatabase 18 contiene 86 polígonos.\n",
      "La geodatabase 19 contiene 113 polígonos.\n",
      "La geodatabase 20 contiene 114 polígonos.\n",
      "La geodatabase 21 contiene 2 polígonos.\n",
      "La geodatabase 22 contiene 6 polígonos.\n",
      "La geodatabase 23 contiene 59 polígonos.\n",
      "La geodatabase 24 contiene 418 polígonos.\n",
      "La geodatabase 25 contiene 295 polígonos.\n",
      "La geodatabase 26 contiene 0 polígonos.\n",
      "La geodatabase 27 contiene 0 polígonos.\n",
      "La geodatabase 28 contiene 33 polígonos.\n",
      "La geodatabase 29 contiene 113 polígonos.\n",
      "La geodatabase 30 contiene 1 polígonos.\n",
      "La geodatabase 31 contiene 42 polígonos.\n",
      "La geodatabase 32 contiene 128 polígonos.\n",
      "La geodatabase 33 contiene 27 polígonos.\n",
      "La geodatabase 34 contiene 33 polígonos.\n",
      "La geodatabase 35 contiene 52 polígonos.\n",
      "La geodatabase 36 contiene 93 polígonos.\n",
      "La geodatabase 37 contiene 71 polígonos.\n",
      "La geodatabase 38 contiene 131 polígonos.\n",
      "La geodatabase 39 contiene 0 polígonos.\n",
      "La geodatabase 40 contiene 104 polígonos.\n",
      "La geodatabase 41 contiene 48 polígonos.\n",
      "La geodatabase 42 contiene 415 polígonos.\n",
      "La geodatabase 43 contiene 22 polígonos.\n",
      "La geodatabase 44 contiene 411 polígonos.\n",
      "La geodatabase 45 contiene 188 polígonos.\n",
      "La geodatabase 46 contiene 54 polígonos.\n",
      "La geodatabase 47 contiene 9 polígonos.\n"
     ]
    }
   ],
   "source": [
    "# Iterar sobre las capas de la lista para ver cuáles tienen más polígonos\n",
    "for i, geo_database in enumerate(solar_polygons, start=1):\n",
    "    num_polygons = len(geo_database)  # Obtener la cantidad de polígonos en la geodatabase actual\n",
    "    print(f\"La geodatabase {i} contiene {num_polygons} polígonos.\")\n",
    "\n",
    "# La que más tiene es Granada, pero nos quedamos con Badajoz que es la segunda que más tiene\n",
    "# porque los polígonos de Granada creo que de media son mucho más pequeños"
   ]
  },
  {
   "cell_type": "code",
   "execution_count": 33,
   "metadata": {},
   "outputs": [
    {
     "name": "stdout",
     "output_type": "stream",
     "text": [
      "Variable guardada correctamente en spatial_data/solar_polygons.pkl\n"
     ]
    }
   ],
   "source": [
    "# Guardar variable de Python como archivo (pickle package)\n",
    "\n",
    "# Ruta del archivo\n",
    "ruta_archivo = \"spatial_data/solar_polygons.pkl\"\n",
    "\n",
    "# Guardar la variable en el archivo\n",
    "with open(ruta_archivo, \"wb\") as archivo:\n",
    "    pickle.dump(solar_polygons, archivo)\n",
    "\n",
    "print(\"Variable guardada correctamente en\", ruta_archivo)\n",
    "\n",
    "# Así podemos cargar la variable en un nuevo entorno\n"
   ]
  },
  {
   "cell_type": "code",
   "execution_count": 28,
   "metadata": {},
   "outputs": [
    {
     "data": {
      "text/html": [
       "<div>\n",
       "<style scoped>\n",
       "    .dataframe tbody tr th:only-of-type {\n",
       "        vertical-align: middle;\n",
       "    }\n",
       "\n",
       "    .dataframe tbody tr th {\n",
       "        vertical-align: top;\n",
       "    }\n",
       "\n",
       "    .dataframe thead th {\n",
       "        text-align: right;\n",
       "    }\n",
       "</style>\n",
       "<table border=\"1\" class=\"dataframe\">\n",
       "  <thead>\n",
       "    <tr style=\"text-align: right;\">\n",
       "      <th></th>\n",
       "      <th>PROVINCIA</th>\n",
       "      <th>MUNICIPIO</th>\n",
       "      <th>MUNICIPIO_NOMBRE</th>\n",
       "      <th>TIPO</th>\n",
       "      <th>ID_PARCELA</th>\n",
       "      <th>REFCAT</th>\n",
       "      <th>ROTULO</th>\n",
       "      <th>ID_USO_MAX</th>\n",
       "      <th>USO_DESC</th>\n",
       "      <th>HILUCS</th>\n",
       "      <th>HILUCS_DESC</th>\n",
       "      <th>SUPERF_M2</th>\n",
       "      <th>FECHA</th>\n",
       "      <th>VALORES</th>\n",
       "      <th>MEJORADO</th>\n",
       "      <th>ANO_REF</th>\n",
       "      <th>geometry</th>\n",
       "    </tr>\n",
       "  </thead>\n",
       "  <tbody>\n",
       "    <tr>\n",
       "      <th>2890</th>\n",
       "      <td>6</td>\n",
       "      <td>158</td>\n",
       "      <td>ZAFRA</td>\n",
       "      <td>R</td>\n",
       "      <td>8de429ed-cf83-43e7-9795-d38939db65b6</td>\n",
       "      <td>06158A00700126</td>\n",
       "      <td>35ANATE_25PAGRI_20ESOLA_15IALIM_05RTIFC</td>\n",
       "      <td>2442</td>\n",
       "      <td>Solar</td>\n",
       "      <td>244</td>\n",
       "      <td>2_4_4_RenewableEnergyProduction</td>\n",
       "      <td>126493.59</td>\n",
       "      <td>NaN</td>\n",
       "      <td>SIGPAC</td>\n",
       "      <td>Revisión visual</td>\n",
       "      <td>2016</td>\n",
       "      <td>POLYGON ((202668.147 4258823.065, 202662.472 4...</td>\n",
       "    </tr>\n",
       "    <tr>\n",
       "      <th>21207</th>\n",
       "      <td>6</td>\n",
       "      <td>162</td>\n",
       "      <td>ZARZA (LA)</td>\n",
       "      <td>R</td>\n",
       "      <td>10203d9f-229a-4438-8b34-db33e3213cd5</td>\n",
       "      <td>06162A01300026</td>\n",
       "      <td>ESOLA</td>\n",
       "      <td>2442</td>\n",
       "      <td>Solar</td>\n",
       "      <td>244</td>\n",
       "      <td>2_4_4_RenewableEnergyProduction</td>\n",
       "      <td>107.42</td>\n",
       "      <td>NaN</td>\n",
       "      <td>SIGPAC</td>\n",
       "      <td>Revisión visual</td>\n",
       "      <td>2016</td>\n",
       "      <td>POLYGON ((215375.174 4300058.518, 215375.174 4...</td>\n",
       "    </tr>\n",
       "    <tr>\n",
       "      <th>22957</th>\n",
       "      <td>6</td>\n",
       "      <td>162</td>\n",
       "      <td>ZARZA (LA)</td>\n",
       "      <td>R</td>\n",
       "      <td>5951c6d3-4944-4989-8de0-f2b717c47560</td>\n",
       "      <td>06162A01300026</td>\n",
       "      <td>ESOLA</td>\n",
       "      <td>2442</td>\n",
       "      <td>Solar</td>\n",
       "      <td>244</td>\n",
       "      <td>2_4_4_RenewableEnergyProduction</td>\n",
       "      <td>69.13</td>\n",
       "      <td>NaN</td>\n",
       "      <td>SIGPAC</td>\n",
       "      <td>Revisión visual</td>\n",
       "      <td>2016</td>\n",
       "      <td>POLYGON ((214882.400 4300242.041, 214877.297 4...</td>\n",
       "    </tr>\n",
       "    <tr>\n",
       "      <th>23531</th>\n",
       "      <td>6</td>\n",
       "      <td>162</td>\n",
       "      <td>ZARZA (LA)</td>\n",
       "      <td>R</td>\n",
       "      <td>734a0c97-ad1b-4b5e-8669-c670d2c80133</td>\n",
       "      <td>06162A01300026</td>\n",
       "      <td>ESOLA</td>\n",
       "      <td>2442</td>\n",
       "      <td>Solar</td>\n",
       "      <td>244</td>\n",
       "      <td>2_4_4_RenewableEnergyProduction</td>\n",
       "      <td>39.79</td>\n",
       "      <td>NaN</td>\n",
       "      <td>SIGPAC</td>\n",
       "      <td>Revisión visual</td>\n",
       "      <td>2016</td>\n",
       "      <td>POLYGON ((215276.431 4300293.133, 215272.919 4...</td>\n",
       "    </tr>\n",
       "    <tr>\n",
       "      <th>24128</th>\n",
       "      <td>6</td>\n",
       "      <td>162</td>\n",
       "      <td>ZARZA (LA)</td>\n",
       "      <td>R</td>\n",
       "      <td>8bfce0e4-c674-43eb-8444-1753d4f753ed</td>\n",
       "      <td>06162A01300026</td>\n",
       "      <td>ESOLA</td>\n",
       "      <td>2442</td>\n",
       "      <td>Solar</td>\n",
       "      <td>244</td>\n",
       "      <td>2_4_4_RenewableEnergyProduction</td>\n",
       "      <td>41.77</td>\n",
       "      <td>NaN</td>\n",
       "      <td>SIGPAC</td>\n",
       "      <td>Revisión visual</td>\n",
       "      <td>2016</td>\n",
       "      <td>POLYGON ((215071.935 4300178.404, 215071.935 4...</td>\n",
       "    </tr>\n",
       "  </tbody>\n",
       "</table>\n",
       "</div>"
      ],
      "text/plain": [
       "       PROVINCIA  MUNICIPIO MUNICIPIO_NOMBRE TIPO  \\\n",
       "2890           6        158            ZAFRA    R   \n",
       "21207          6        162       ZARZA (LA)    R   \n",
       "22957          6        162       ZARZA (LA)    R   \n",
       "23531          6        162       ZARZA (LA)    R   \n",
       "24128          6        162       ZARZA (LA)    R   \n",
       "\n",
       "                                 ID_PARCELA          REFCAT  \\\n",
       "2890   8de429ed-cf83-43e7-9795-d38939db65b6  06158A00700126   \n",
       "21207  10203d9f-229a-4438-8b34-db33e3213cd5  06162A01300026   \n",
       "22957  5951c6d3-4944-4989-8de0-f2b717c47560  06162A01300026   \n",
       "23531  734a0c97-ad1b-4b5e-8669-c670d2c80133  06162A01300026   \n",
       "24128  8bfce0e4-c674-43eb-8444-1753d4f753ed  06162A01300026   \n",
       "\n",
       "                                        ROTULO  ID_USO_MAX USO_DESC  HILUCS  \\\n",
       "2890   35ANATE_25PAGRI_20ESOLA_15IALIM_05RTIFC        2442    Solar     244   \n",
       "21207                                    ESOLA        2442    Solar     244   \n",
       "22957                                    ESOLA        2442    Solar     244   \n",
       "23531                                    ESOLA        2442    Solar     244   \n",
       "24128                                    ESOLA        2442    Solar     244   \n",
       "\n",
       "                           HILUCS_DESC  SUPERF_M2  FECHA VALORES  \\\n",
       "2890   2_4_4_RenewableEnergyProduction  126493.59    NaN  SIGPAC   \n",
       "21207  2_4_4_RenewableEnergyProduction     107.42    NaN  SIGPAC   \n",
       "22957  2_4_4_RenewableEnergyProduction      69.13    NaN  SIGPAC   \n",
       "23531  2_4_4_RenewableEnergyProduction      39.79    NaN  SIGPAC   \n",
       "24128  2_4_4_RenewableEnergyProduction      41.77    NaN  SIGPAC   \n",
       "\n",
       "              MEJORADO  ANO_REF  \\\n",
       "2890   Revisión visual     2016   \n",
       "21207  Revisión visual     2016   \n",
       "22957  Revisión visual     2016   \n",
       "23531  Revisión visual     2016   \n",
       "24128  Revisión visual     2016   \n",
       "\n",
       "                                                geometry  \n",
       "2890   POLYGON ((202668.147 4258823.065, 202662.472 4...  \n",
       "21207  POLYGON ((215375.174 4300058.518, 215375.174 4...  \n",
       "22957  POLYGON ((214882.400 4300242.041, 214877.297 4...  \n",
       "23531  POLYGON ((215276.431 4300293.133, 215272.919 4...  \n",
       "24128  POLYGON ((215071.935 4300178.404, 215071.935 4...  "
      ]
     },
     "execution_count": 28,
     "metadata": {},
     "output_type": "execute_result"
    }
   ],
   "source": [
    "# Seleccionar Badajoz\n",
    "badajoz_solar = solar_polygons[4]\n",
    "badajoz_solar.head()"
   ]
  },
  {
   "cell_type": "code",
   "execution_count": 43,
   "metadata": {},
   "outputs": [
    {
     "name": "stderr",
     "output_type": "stream",
     "text": [
      "C:\\Users\\Laura Mapu\\AppData\\Local\\Temp\\ipykernel_1932\\2582475415.py:2: UserWarning: Column names longer than 10 characters will be truncated when saved to ESRI Shapefile.\n",
      "  badajoz_solar.to_file(\"spatial_data/final_polys/badajoz_solar.shp\")\n"
     ]
    }
   ],
   "source": [
    "# Guardar\n",
    "badajoz_solar.to_file(\"spatial_data/final_polys/badajoz_solar.shp\")"
   ]
  },
  {
   "cell_type": "markdown",
   "metadata": {},
   "source": [
    "##### Extracción polígonos invernaderos"
   ]
  },
  {
   "cell_type": "code",
   "execution_count": 3,
   "metadata": {},
   "outputs": [
    {
     "data": {
      "text/plain": [
       "['SAR_06_T_USOS',\n",
       " 'SAR_06_T_POLIGONOS',\n",
       " 'SAR_06_T_COMBINADA',\n",
       " 'layer_styles',\n",
       " 'LISTADO_COBERTURAS',\n",
       " 'LISTADO_ATRIBUTOS',\n",
       " 'LISTADO_USOS',\n",
       " 'SAR_06_T_VALORES',\n",
       " 'SAR_06_TABLA_PLANA']"
      ]
     },
     "execution_count": 3,
     "metadata": {},
     "output_type": "execute_result"
    }
   ],
   "source": [
    "# Continuamos sólo con Badajoz para facilitar el proceso\n",
    "capas_badajoz=fiona.listlayers(\"spatial_data/06_BADAJOZ.gpkg\")\n",
    "capas_badajoz"
   ]
  },
  {
   "cell_type": "code",
   "execution_count": 4,
   "metadata": {},
   "outputs": [],
   "source": [
    "# La capa que nos interesa es la de POLIGONOS, donde se encuentran los usos agrícolas detallados según SIGPAC\n",
    "badajoz_POLIGONOS = gpd.read_file(\"spatial_data/06_BADAJOZ.gpkg\", layer=capas_badajoz[1])"
   ]
  },
  {
   "cell_type": "code",
   "execution_count": 48,
   "metadata": {},
   "outputs": [
    {
     "name": "stderr",
     "output_type": "stream",
     "text": [
      "C:\\Users\\Laura Mapu\\AppData\\Local\\Temp\\ipykernel_1932\\1271608959.py:3: UserWarning: Column names longer than 10 characters will be truncated when saved to ESRI Shapefile.\n",
      "  badajoz_greenhouse.to_file(\"spatial_data/final_polys/badajoz_greenhouse.shp\")\n"
     ]
    }
   ],
   "source": [
    "# Nuestros polígonos de interés son los que en la columna de SIGPAC tienen la categoría 'IV'\n",
    "# Extraer polígonos, proyectar y guardar\n",
    "badajoz_greenhouse = badajoz_POLIGONOS[badajoz_POLIGONOS['USO_SIGPAC'].isin(['IV'])].to_crs(25830)\n",
    "badajoz_greenhouse.to_file(\"spatial_data/final_polys/badajoz_greenhouse.shp\")"
   ]
  },
  {
   "cell_type": "markdown",
   "metadata": {},
   "source": [
    "##### Extracción polígonos cultivos arbóreos"
   ]
  },
  {
   "cell_type": "code",
   "execution_count": 49,
   "metadata": {},
   "outputs": [
    {
     "data": {
      "text/plain": [
       "array(['PS', 'PR', 'ZU', None, 'TA', 'IM', 'FY', 'TH', 'OV', 'ED', 'PA',\n",
       "       'AG', 'CA', 'FO', 'OF', 'FS', 'VI', 'VF', 'IV', 'FF', 'VO', 'CI',\n",
       "       'FL', 'FV', 'CF', 'OC', 'ZC'], dtype=object)"
      ]
     },
     "execution_count": 49,
     "metadata": {},
     "output_type": "execute_result"
    }
   ],
   "source": [
    "badajoz_POLIGONOS['USO_SIGPAC'].unique()\n"
   ]
  },
  {
   "cell_type": "code",
   "execution_count": 51,
   "metadata": {},
   "outputs": [
    {
     "name": "stderr",
     "output_type": "stream",
     "text": [
      "C:\\Users\\Laura Mapu\\AppData\\Local\\Temp\\ipykernel_1932\\2533707338.py:4: UserWarning: Column names longer than 10 characters will be truncated when saved to ESRI Shapefile.\n",
      "  badajoz_treecrops.to_file(\"spatial_data/final_polys/badajoz_treecrops.shp\")\n"
     ]
    }
   ],
   "source": [
    "badajoz_treecrops = badajoz_POLIGONOS[badajoz_POLIGONOS['USO_SIGPAC'].isin(['CF', 'CI', 'CS', 'CV', 'FF',\n",
    "                                                                          'FL', 'FS', 'FV', 'FY', 'OC',\n",
    "                                                                          'OF', 'OV', 'VF', 'VI', 'VO'])].to_crs(25830)\n",
    "badajoz_treecrops.to_file(\"spatial_data/final_polys/badajoz_treecrops.shp\")"
   ]
  },
  {
   "cell_type": "markdown",
   "metadata": {},
   "source": [
    "##### Extracción polígonos urbanos"
   ]
  },
  {
   "cell_type": "code",
   "execution_count": 6,
   "metadata": {},
   "outputs": [],
   "source": [
    "# Nuestra capa de interés es COMBINADA\n",
    "badajoz_COMBINADA = gpd.read_file(\"spatial_data/06_BADAJOZ.gpkg\", layer=capas_badajoz[2])"
   ]
  },
  {
   "cell_type": "code",
   "execution_count": 7,
   "metadata": {},
   "outputs": [
    {
     "name": "stderr",
     "output_type": "stream",
     "text": [
      "C:\\Users\\Laura Mapu\\AppData\\Local\\Temp\\ipykernel_3376\\1663385929.py:3: UserWarning: Column names longer than 10 characters will be truncated when saved to ESRI Shapefile.\n",
      "  badajoz_urban.to_file(\"spatial_data/final_polys/badajoz_urban.shp\")\n"
     ]
    }
   ],
   "source": [
    "# Seleccionamos los polígonos cuya 'COBERTURA_DESC' sea 'Edificación'\n",
    "badajoz_urban = badajoz_COMBINADA[badajoz_COMBINADA['COBERTURA_DESC'].isin(['Edificación'])].to_crs(25830)\n",
    "badajoz_urban.to_file(\"spatial_data/final_polys/badajoz_urban.shp\")"
   ]
  },
  {
   "cell_type": "markdown",
   "metadata": {},
   "source": [
    "##### Extracción todos los demás polígonos"
   ]
  },
  {
   "cell_type": "code",
   "execution_count": null,
   "metadata": {},
   "outputs": [],
   "source": [
    "# esto no hace falta hacerlo porque realmente es asignar la categoría 'otros' a todos los píxeles\n",
    "# que no correspondan a ninguna de las anteriores así que ya está!!"
   ]
  }
 ],
 "metadata": {
  "kernelspec": {
   "display_name": "Python 3",
   "language": "python",
   "name": "python3"
  },
  "language_info": {
   "codemirror_mode": {
    "name": "ipython",
    "version": 3
   },
   "file_extension": ".py",
   "mimetype": "text/x-python",
   "name": "python",
   "nbconvert_exporter": "python",
   "pygments_lexer": "ipython3",
   "version": "3.9.13"
  }
 },
 "nbformat": 4,
 "nbformat_minor": 2
}
