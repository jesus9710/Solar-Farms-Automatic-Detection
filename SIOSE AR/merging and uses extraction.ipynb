{
 "cells": [
  {
   "cell_type": "markdown",
   "metadata": {},
   "source": [
    "### Extracción de capas de interés de SIOSE\n",
    "#### (Solar, Cultivos y Cultivos arbóreos)"
   ]
  },
  {
   "cell_type": "markdown",
   "metadata": {},
   "source": [
    "##### Instalar paquetes no nativos"
   ]
  },
  {
   "cell_type": "code",
   "execution_count": null,
   "metadata": {},
   "outputs": [],
   "source": [
    "!pip install geopandas pyproj"
   ]
  },
  {
   "cell_type": "code",
   "execution_count": null,
   "metadata": {},
   "outputs": [],
   "source": [
    "!pip install fiona"
   ]
  },
  {
   "cell_type": "markdown",
   "metadata": {},
   "source": [
    "##### Importar paquetes"
   ]
  },
  {
   "cell_type": "code",
   "execution_count": 1,
   "metadata": {},
   "outputs": [],
   "source": [
    "import os\n",
    "import glob\n",
    "import geopandas as gpd\n",
    "from pyproj import CRS\n",
    "import zipfile\n",
    "import fiona\n"
   ]
  },
  {
   "cell_type": "markdown",
   "metadata": {},
   "source": [
    "##### Listar todos los archivos de SIOSE, formato .gpkg para cada provincia"
   ]
  },
  {
   "cell_type": "code",
   "execution_count": 2,
   "metadata": {},
   "outputs": [
    {
     "name": "stdout",
     "output_type": "stream",
     "text": [
      "['spatial_data/01_ALAVA.gpkg', 'spatial_data/03_ALICANTE.gpkg', 'spatial_data/04_ALMERIA.gpkg', 'spatial_data/05_AVILA.gpkg', 'spatial_data/06_BADAJOZ.gpkg', 'spatial_data/08_BARCELONA.gpkg', 'spatial_data/09_BURGOS.gpkg', 'spatial_data/10_CACERES.gpkg', 'spatial_data/12_CASTELLON.gpkg', 'spatial_data/14_CORDOBA.gpkg', 'spatial_data/15_CORUÑA.gpkg', 'spatial_data/17_GIRONA.gpkg', 'spatial_data/18_GRANADA.gpkg', 'spatial_data/20_GUIPUZCOA.gpkg', 'spatial_data/21_HUELVA.gpkg', 'spatial_data/22_HUESCA.gpkg', 'spatial_data/23_JAEN.gpkg', 'spatial_data/24_LEON.gpkg', 'spatial_data/25_LLEIDA.gpkg', 'spatial_data/26_RIOJA.gpkg', 'spatial_data/27_LUGO.gpkg', 'spatial_data/28_MADRID.gpkg', 'spatial_data/29_MALAGA.gpkg', 'spatial_data/30_MURCIA.gpkg', 'spatial_data/31_NAVARRA.gpkg', 'spatial_data/32_OURENSE.gpkg', 'spatial_data/33_ASTURIAS.gpkg', 'spatial_data/34_PALENCIA.gpkg', 'spatial_data/37_SALAMANCA.gpkg', 'spatial_data/39_CANTABRIA.gpkg', 'spatial_data/40_SEGOVIA.gpkg', 'spatial_data/41_SEVILLA.gpkg', 'spatial_data/42_SORIA.gpkg', 'spatial_data/43_TARRAGONA.gpkg', 'spatial_data/44_TERUEL.gpkg', 'spatial_data/45_TOLEDO.gpkg', 'spatial_data/46_VALENCIA.gpkg', 'spatial_data/47_VALLADOLID.gpkg', 'spatial_data/48_VIZCAYA.gpkg', 'spatial_data/49_ZAMORA.gpkg', 'spatial_data/50_ZARAGOZA.gpkg', 'spatial_data/SAR2017_02_Albacete_GPKG\\\\02_ALBACETE.gpkg', 'spatial_data/SAR2017_11_Cadiz_GPKG\\\\11_CADIZ.gpkg', 'spatial_data/SAR2017_13_Creal_GPKG\\\\13_CREAL.gpkg', 'spatial_data/SAR2017_16_Cuenca_GPKG\\\\16_CUENCA.gpkg', 'spatial_data/SAR2017_19_Guadalajara_GPKG\\\\19_GUADALAJARA.gpkg', 'spatial_data/SAR2017_36_Pontevedra_GPKG\\\\36_PONTEVEDRA.gpkg']\n"
     ]
    }
   ],
   "source": [
    "# Directorio raíz\n",
    "directorio_raiz = \"spatial_data/\"\n",
    "\n",
    "# Lista para almacenar los archivos .gpkg\n",
    "gpkg_files = []\n",
    "\n",
    "# Recorrer recursivamente el directorio raíz y sus subdirectorios\n",
    "for directorio_actual, _, archivos in os.walk(directorio_raiz):\n",
    "    # Filtrar los archivos .gpkg y agregarlos a la lista\n",
    "    gpkg_files += [os.path.join(directorio_actual, archivo) for archivo in archivos if archivo.endswith(\".gpkg\")]\n",
    "\n",
    "# Imprimir la lista de archivos .gpkg\n",
    "print(gpkg_files)"
   ]
  },
  {
   "cell_type": "markdown",
   "metadata": {},
   "source": [
    "##### Extracción polígonos solares"
   ]
  },
  {
   "cell_type": "code",
   "execution_count": 4,
   "metadata": {},
   "outputs": [],
   "source": [
    "# Función para extraer la capa USOS y el uso 'Solar'\n",
    "def extract_USOS(file_path):\n",
    "    # Listar todas las capas\n",
    "    layers = fiona.listlayers(file_path)\n",
    "    # Seleccionar el nombre de capa que termine por '_T_USOS'\n",
    "    layer_name = [layer for layer in layers if layer.endswith('_T_USOS')][0]\n",
    "    # Leer la capa\n",
    "    layer = gpd.read_file(file_path, layer=layer_name)\n",
    "    # Extraer uso 'Solar'\n",
    "    layer = layer[layer['ID_USO_MAX'].isin([2442])]\n",
    "    return layer"
   ]
  },
  {
   "cell_type": "code",
   "execution_count": 5,
   "metadata": {},
   "outputs": [],
   "source": [
    "# Extraer capas \n",
    "solar_polygons = [extract_USOS(file) for file in gpkg_files]"
   ]
  },
  {
   "cell_type": "code",
   "execution_count": null,
   "metadata": {},
   "outputs": [],
   "source": [
    "# Proyectar a EPSG:25830\n",
    "solar_polygons = [capa.to_crs(25830) for capa in solar_polygons]"
   ]
  },
  {
   "cell_type": "code",
   "execution_count": null,
   "metadata": {},
   "outputs": [],
   "source": [
    "# Combinar capas en un único objeto\n",
    "solar = solar_polygons[0]\n",
    "for capa in solar_polygons[1:]:\n",
    "    solar = solar.append(capa, ignore_index=True)"
   ]
  },
  {
   "cell_type": "code",
   "execution_count": null,
   "metadata": {},
   "outputs": [],
   "source": [
    "# Guardar\n",
    "solar.to_file(\"spatial_data/final_polys/solar.shp\")"
   ]
  },
  {
   "cell_type": "code",
   "execution_count": null,
   "metadata": {},
   "outputs": [],
   "source": [
    "# NO SE SI ES ESTO O LA ANTERIOR CELDA TENGO QUE PROBAR\n",
    "gpd.GeoDataFrame(pd.concat(capas)).to_file(\"spatial_data/final_polys/solar.shp\")"
   ]
  },
  {
   "cell_type": "markdown",
   "metadata": {},
   "source": [
    "##### Extracción polígonos invernaderos"
   ]
  },
  {
   "cell_type": "code",
   "execution_count": 8,
   "metadata": {},
   "outputs": [],
   "source": [
    "# Función para extraer la capa COBERTURAS y el uso 'Cultivos' (invernaderos)\n",
    "def extract_cultivos(file_path):\n",
    "    # Listar todas las capas\n",
    "    layers = fiona.listlayers(file_path)\n",
    "    # Seleccionar el nombre de capa que termine por '_T_COMBINADA'\n",
    "    layer_name = [layer for layer in layers if layer.endswith('_T_COMBINADA')][0]\n",
    "    # Leer la capa\n",
    "    layer = gpd.read_file(file_path, layer=layer_name)\n",
    "    # Extraer uso 'Producción agrícola comercial'\n",
    "    layer = layer[layer['COBERTURA_DESC'].isin(['Cultivos'])]\n",
    "    return layer"
   ]
  },
  {
   "cell_type": "code",
   "execution_count": 9,
   "metadata": {},
   "outputs": [],
   "source": [
    "# Extraer capas \n",
    "greenhouse_polygons = [extract_cultivos(file) for file in gpkg_files]"
   ]
  },
  {
   "cell_type": "code",
   "execution_count": null,
   "metadata": {},
   "outputs": [],
   "source": [
    "# Proyectar a EPSG:25830\n",
    "greenhouse_polygons = [capa.to_crs(25830) for capa in greenhouse_polygons]"
   ]
  },
  {
   "cell_type": "code",
   "execution_count": null,
   "metadata": {},
   "outputs": [],
   "source": [
    "# Combinar capas en un único objeto\n",
    "greenhouse = greenhouse_polygons[0]\n",
    "for capa in greenhouse_polygons[1:]:\n",
    "    greenhouse = greenhouse.append(capa, ignore_index=True)"
   ]
  }
 ],
 "metadata": {
  "kernelspec": {
   "display_name": "Python 3",
   "language": "python",
   "name": "python3"
  },
  "language_info": {
   "codemirror_mode": {
    "name": "ipython",
    "version": 3
   },
   "file_extension": ".py",
   "mimetype": "text/x-python",
   "name": "python",
   "nbconvert_exporter": "python",
   "pygments_lexer": "ipython3",
   "version": "3.9.13"
  }
 },
 "nbformat": 4,
 "nbformat_minor": 2
}
