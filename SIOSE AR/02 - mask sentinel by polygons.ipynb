{
 "cells": [
  {
   "cell_type": "code",
   "execution_count": 1,
   "metadata": {},
   "outputs": [],
   "source": [
    "import rasterio\n",
    "from rasterio.features import rasterize\n",
    "import geopandas as gpd\n",
    "import numpy as np\n",
    "from pyproj import CRS\n",
    "from shapely.geometry import box\n",
    "from PIL import Image"
   ]
  },
  {
   "cell_type": "code",
   "execution_count": 2,
   "metadata": {},
   "outputs": [],
   "source": [
    "# load raster\n",
    "raster_path = 'spatial_data/merged_raster_preprocessed.tif'\n",
    "raster = rasterio.open(raster_path)"
   ]
  },
  {
   "cell_type": "code",
   "execution_count": 3,
   "metadata": {},
   "outputs": [],
   "source": [
    "# read shapefiles\n",
    "#greenhouse = gpd.read_file(\"spatial_data/final_polys/badajoz_greenhouse.shp\")\n",
    "solar = gpd.read_file(\"spatial_data/final_polys/badajoz_creal_solar.shp\")\n",
    "#treecrop = gpd.read_file(\"spatial_data/final_polys/badajoz_treecrops.shp\")\n",
    "#urban = gpd.read_file(\"spatial_data/final_polys/badajoz_urban.shp\")"
   ]
  },
  {
   "cell_type": "code",
   "execution_count": null,
   "metadata": {},
   "outputs": [],
   "source": [
    "solar.explore() # interactive visualization with geopandas"
   ]
  },
  {
   "cell_type": "code",
   "execution_count": 4,
   "metadata": {},
   "outputs": [],
   "source": [
    "# get raster projection\n",
    "raster_crs = CRS.from_wkt(raster.crs.to_wkt())\n",
    "\n",
    "# reproyect polygons to raster projection\n",
    "#greenhouse = greenhouse.to_crs(raster_crs)\n",
    "solar = solar.to_crs(raster_crs)\n",
    "#treecrop = treecrop.to_crs(raster_crs)\n",
    "#urban = urban.to_crs(raster_crs)"
   ]
  },
  {
   "cell_type": "code",
   "execution_count": 6,
   "metadata": {},
   "outputs": [],
   "source": [
    "# again load raster base \n",
    "with rasterio.open('spatial_data/merged_raster_preprocessed.tif') as src:\n",
    "    raster_meta = src.meta.copy() # shape\n",
    "    raster_data = src.read(1) # data"
   ]
  },
  {
   "cell_type": "code",
   "execution_count": 7,
   "metadata": {},
   "outputs": [
    {
     "name": "stdout",
     "output_type": "stream",
     "text": [
      "True\n"
     ]
    }
   ],
   "source": [
    "# check if polygons overlap raster\n",
    "\n",
    "# box geometry for raster\n",
    "raster_bounds = box(*raster.bounds)\n",
    "\n",
    "#print(greenhouse.geometry.intersects(raster_bounds).any())\n",
    "print(solar.geometry.intersects(raster_bounds).any())\n",
    "#print(treecrop.geometry.intersects(raster_bounds).any())\n",
    "#print(urban.geometry.intersects(raster_bounds).any())"
   ]
  },
  {
   "cell_type": "code",
   "execution_count": 8,
   "metadata": {},
   "outputs": [],
   "source": [
    "# function to rasterize geodataframe with specific value\n",
    "def rasterize_gdf(gdf, value, shape, transform):\n",
    "    shapes = ((geom, value) for geom in gdf.geometry)\n",
    "    return rasterize(shapes, out_shape=shape, transform=transform, fill=0)"
   ]
  },
  {
   "cell_type": "code",
   "execution_count": 9,
   "metadata": {},
   "outputs": [],
   "source": [
    "# rasterize each class\n",
    "#greenhouse_raster = rasterize_gdf(greenhouse, 1, raster_data.shape, raster_meta['transform'])\n",
    "solar_raster = rasterize_gdf(solar, 1, raster_data.shape, raster_meta['transform'])\n",
    "#treecrop_raster = rasterize_gdf(treecrop, 3, raster_data.shape, raster_meta['transform'])\n",
    "#urban_raster = rasterize_gdf(urban, 4, raster_data.shape, raster_meta['transform'])"
   ]
  },
  {
   "cell_type": "code",
   "execution_count": 10,
   "metadata": {},
   "outputs": [],
   "source": [
    "# combine rasters (with priority, first one overlaps second, second overlaps third, and so on)\n",
    "combined_raster = np.where(solar_raster > 0, solar_raster, 0)\n",
    "#combined_raster = np.where(greenhouse_raster > 0, greenhouse_raster, combined_raster)\n",
    "#combined_raster = np.where(treecrop_raster > 0, treecrop_raster, combined_raster)\n",
    "#combined_raster = np.where(urban_raster > 0, urban_raster, combined_raster)"
   ]
  },
  {
   "cell_type": "code",
   "execution_count": 13,
   "metadata": {},
   "outputs": [],
   "source": [
    "# assign 5 to the pixels that don't lay within any polygon\n",
    "#combined_raster = np.where(combined_raster == 0, 5, combined_raster)\n",
    "\n",
    "# assign 3 to the pixels that don't lay within any polygon\n",
    "#combined_raster = np.where(combined_raster == 0, 3, combined_raster)"
   ]
  },
  {
   "cell_type": "code",
   "execution_count": 14,
   "metadata": {},
   "outputs": [],
   "source": [
    "# assign 0 to pixels in which the original raster was 0 (outside Badajoz borders)\n",
    "#masked_combined_raster = np.where(raster_data == 0, 0, combined_raster)"
   ]
  },
  {
   "cell_type": "code",
   "execution_count": 11,
   "metadata": {},
   "outputs": [],
   "source": [
    "# save new raster basing on original raster\n",
    "raster_meta.update(dtype=rasterio.int32, count=1)\n",
    "with rasterio.open('spatial_data/multiclass_mask.tif', 'w', **raster_meta) as dst:\n",
    "    dst.write(combined_raster, 1)"
   ]
  },
  {
   "cell_type": "code",
   "execution_count": 12,
   "metadata": {},
   "outputs": [],
   "source": [
    "# reload with pillow, convert to png, save\n",
    "\n",
    "Image.MAX_IMAGE_PIXELS = None # turn off protection against decompression bomb\n",
    "\n",
    "rgb_image = Image.open('spatial_data/merged_raster_preprocessed.tif')\n",
    "mask_image = Image.open('spatial_data/multiclass_mask.tif')\n",
    "\n",
    "rgb_png = rgb_image.convert('RGB')\n",
    "# for mask it's not necessary since it's single-band\n",
    "\n",
    "rgb_png.save('spatial_data/merged_raster_preprocessed.png', 'PNG')\n",
    "mask_image.save('spatial_data/multiclass_mask.png', 'PNG')\n"
   ]
  },
  {
   "cell_type": "code",
   "execution_count": 13,
   "metadata": {},
   "outputs": [
    {
     "data": {
      "text/plain": [
       "array([0, 1])"
      ]
     },
     "execution_count": 13,
     "metadata": {},
     "output_type": "execute_result"
    }
   ],
   "source": [
    "mask_np = np.array(mask_image)\n",
    "np.unique(mask_np)\n",
    "\n",
    "# values are ok"
   ]
  }
 ],
 "metadata": {
  "kernelspec": {
   "display_name": "Python 3",
   "language": "python",
   "name": "python3"
  },
  "language_info": {
   "codemirror_mode": {
    "name": "ipython",
    "version": 3
   },
   "file_extension": ".py",
   "mimetype": "text/x-python",
   "name": "python",
   "nbconvert_exporter": "python",
   "pygments_lexer": "ipython3",
   "version": "3.9.13"
  }
 },
 "nbformat": 4,
 "nbformat_minor": 2
}
